{
 "cells": [
  {
   "cell_type": "code",
   "execution_count": 1,
   "id": "987c969a",
   "metadata": {},
   "outputs": [],
   "source": [
    "#import modules\n",
    "from pyspark.sql import SparkSession\n",
    "from pyspark.sql.types import *\n",
    "from pyspark.sql.functions import *\n",
    "from pyspark.ml.classification import LogisticRegression\n",
    "from pyspark.ml.classification import NaiveBayes\n",
    "\n",
    "from pyspark.ml.classification  import RandomForestClassifier\n",
    "from pyspark.ml.feature import HashingTF, Tokenizer, StopWordsRemover\n",
    "\n",
    "import praw\n",
    "    \n",
    "#create Spark session\n",
    "appName = \"Spark_SentimentAnalysis\"\n",
    "spark = SparkSession.builder.appName(appName).getOrCreate()\n"
   ]
  },
  {
   "cell_type": "code",
   "execution_count": 2,
   "id": "89928ff5",
   "metadata": {},
   "outputs": [
    {
     "name": "stdout",
     "output_type": "stream",
     "text": [
      "<class 'pyspark.sql.dataframe.DataFrame'>\n",
      "+------------------------------------------------------------------------------------------------------------------------------------------------------------------------------------------------------------------+---------+\n",
      "|SentimentText                                                                                                                                                                                                     |Sentiment|\n",
      "+------------------------------------------------------------------------------------------------------------------------------------------------------------------------------------------------------------------+---------+\n",
      "|when modi promised “minimum government maximum governance” expected him begin the difficult job reforming the state why does take years get justice state should and not business and should exit psus and temples|0        |\n",
      "|talk all the nonsense and continue all the drama will vote for modi                                                                                                                                               |0        |\n",
      "|what did just say vote for modi  welcome bjp told you rahul the main campaigner for modi think modi should just relax                                                                                             |1        |\n",
      "+------------------------------------------------------------------------------------------------------------------------------------------------------------------------------------------------------------------+---------+\n",
      "only showing top 3 rows\n",
      "\n"
     ]
    }
   ],
   "source": [
    "#read csv file into dataFrame with automatically inferred schema\n",
    "\n",
    "data = spark.read.csv('Reddit_Data.csv', inferSchema=True, header=True)\n",
    "\n",
    "print(type(data))\n",
    "data.show(truncate=False, n=3)"
   ]
  },
  {
   "cell_type": "code",
   "execution_count": 3,
   "id": "83340ff4",
   "metadata": {},
   "outputs": [
    {
     "name": "stdout",
     "output_type": "stream",
     "text": [
      "+------------------------------------------------------------------------------------------------------------------------------------------------------------------------------------------------------------------+---------+\n",
      "|SentimentText                                                                                                                                                                                                     |Sentiment|\n",
      "+------------------------------------------------------------------------------------------------------------------------------------------------------------------------------------------------------------------+---------+\n",
      "|when modi promised “minimum government maximum governance” expected him begin the difficult job reforming the state why does take years get justice state should and not business and should exit psus and temples|0        |\n",
      "|talk all the nonsense and continue all the drama will vote for modi                                                                                                                                               |0        |\n",
      "|what did just say vote for modi  welcome bjp told you rahul the main campaigner for modi think modi should just relax                                                                                             |1        |\n",
      "+------------------------------------------------------------------------------------------------------------------------------------------------------------------------------------------------------------------+---------+\n",
      "only showing top 3 rows\n",
      "\n"
     ]
    }
   ],
   "source": [
    "# drop the empty records (rows) from dataset.\n",
    "\n",
    "data=data.na.drop()\n",
    "data.show(truncate=False, n=3)"
   ]
  },
  {
   "cell_type": "code",
   "execution_count": 4,
   "id": "af6c5918",
   "metadata": {},
   "outputs": [
    {
     "name": "stdout",
     "output_type": "stream",
     "text": [
      "+--------------------------------------------------------------------------------------------------------------------------------------------------------------------------------------------------------------------+-----+\n",
      "|SentimentText                                                                                                                                                                                                       |label|\n",
      "+--------------------------------------------------------------------------------------------------------------------------------------------------------------------------------------------------------------------+-----+\n",
      "|when modi promised “minimum government maximum governance” expected him begin the difficult job reforming the state why does take years get justice state should and not business and should exit psus and temples  |0    |\n",
      "|talk all the nonsense and continue all the drama will vote for modi                                                                                                                                                 |0    |\n",
      "|what did just say vote for modi  welcome bjp told you rahul the main campaigner for modi think modi should just relax                                                                                               |1    |\n",
      "|asking his supporters prefix chowkidar their names modi did great service now there confusion what read what not now crustal clear what will crass filthy nonsensical see how most abuses are coming from chowkidars|1    |\n",
      "|answer who among these the most powerful world leader today trump putin modi may                                                                                                                                    |1    |\n",
      "+--------------------------------------------------------------------------------------------------------------------------------------------------------------------------------------------------------------------+-----+\n",
      "only showing top 5 rows\n",
      "\n"
     ]
    }
   ],
   "source": [
    "#select only \"SentimentText\" and \"Sentiment\" column, \n",
    "#and cast \"Sentiment\" column data into integer\n",
    "data = data.select(\"SentimentText\", col(\"Sentiment\").cast(\"Int\").alias(\"label\"))\n",
    "data.show(truncate = False,n=5)"
   ]
  },
  {
   "cell_type": "code",
   "execution_count": 5,
   "id": "c6813729",
   "metadata": {},
   "outputs": [
    {
     "name": "stdout",
     "output_type": "stream",
     "text": [
      "Training data rows: 111342 ; Testing data rows: 47348\n"
     ]
    }
   ],
   "source": [
    "#divide data- 70% for training, 30% for testing\n",
    "\n",
    "dividedData = data.randomSplit([0.7, 0.3])\n",
    "trainingData = dividedData[0] #index 0 = data training\n",
    "testingData = dividedData[1] #index 1 = data testing\n",
    "train_rows = trainingData.count()\n",
    "test_rows = testingData.count()\n",
    "#print(type(testingData))\n",
    "print (\"Training data rows:\", train_rows, \"; Testing data rows:\", test_rows)"
   ]
  },
  {
   "cell_type": "code",
   "execution_count": 6,
   "id": "b6ea4073",
   "metadata": {},
   "outputs": [
    {
     "name": "stdout",
     "output_type": "stream",
     "text": [
      "+------------------------------------------+-----+----------------------------------------------------+\n",
      "|SentimentText                             |label|SentimentWords                                      |\n",
      "+------------------------------------------+-----+----------------------------------------------------+\n",
      "|   \"                                      |0    |[, , , \"]                                           |\n",
      "|   modi invested make australia apples lol|1    |[, , , modi, invested, make, australia, apples, lol]|\n",
      "| \"                                        |0    |[, \"]                                               |\n",
      "| \"                                        |0    |[, \"]                                               |\n",
      "| \"                                        |0    |[, \"]                                               |\n",
      "+------------------------------------------+-----+----------------------------------------------------+\n",
      "only showing top 5 rows\n",
      "\n"
     ]
    }
   ],
   "source": [
    "#Prepare training data\n",
    "#Separate \"SentimentText\" into individual words using tokenizer\n",
    "\n",
    "tokenizer = Tokenizer(inputCol=\"SentimentText\", outputCol=\"SentimentWords\")\n",
    "\n",
    "tokenizedTrain = tokenizer.transform(trainingData)\n",
    "\n",
    "tokenizedTrain.show(truncate=False, n=5)"
   ]
  },
  {
   "cell_type": "code",
   "execution_count": 7,
   "id": "7dcb3733",
   "metadata": {},
   "outputs": [
    {
     "name": "stdout",
     "output_type": "stream",
     "text": [
      "+------------------------------------------+-----+----------------------------------------------------+----------------------------------------------------+\n",
      "|SentimentText                             |label|SentimentWords                                      |MeaningfulWords                                     |\n",
      "+------------------------------------------+-----+----------------------------------------------------+----------------------------------------------------+\n",
      "|   \"                                      |0    |[, , , \"]                                           |[, , , \"]                                           |\n",
      "|   modi invested make australia apples lol|1    |[, , , modi, invested, make, australia, apples, lol]|[, , , modi, invested, make, australia, apples, lol]|\n",
      "| \"                                        |0    |[, \"]                                               |[, \"]                                               |\n",
      "| \"                                        |0    |[, \"]                                               |[, \"]                                               |\n",
      "| \"                                        |0    |[, \"]                                               |[, \"]                                               |\n",
      "+------------------------------------------+-----+----------------------------------------------------+----------------------------------------------------+\n",
      "only showing top 5 rows\n",
      "\n"
     ]
    }
   ],
   "source": [
    "#Removing stop words (unimportant words to be features)\n",
    "\n",
    "swr = StopWordsRemover(inputCol=tokenizer.getOutputCol(),outputCol=\"MeaningfulWords\")\n",
    "\n",
    "SwRemovedTrain = swr.transform(tokenizedTrain)\n",
    "\n",
    "SwRemovedTrain.show(truncate=False, n=5)\n"
   ]
  },
  {
   "cell_type": "code",
   "execution_count": 8,
   "id": "10b1a8a7",
   "metadata": {},
   "outputs": [
    {
     "name": "stdout",
     "output_type": "stream",
     "text": [
      "+-----+----------------------------------------------------+----------------------------------------------------------------+\n",
      "|label|MeaningfulWords                                     |features                                                        |\n",
      "+-----+----------------------------------------------------+----------------------------------------------------------------+\n",
      "|0    |[, , , \"]                                           |(500,[19,372],[1.0,3.0])                                        |\n",
      "|1    |[, , , modi, invested, make, australia, apples, lol]|(500,[25,189,372,405,410,439,444],[1.0,1.0,3.0,1.0,1.0,1.0,1.0])|\n",
      "|0    |[, \"]                                               |(500,[19,372],[1.0,1.0])                                        |\n",
      "+-----+----------------------------------------------------+----------------------------------------------------------------+\n",
      "only showing top 3 rows\n",
      "\n"
     ]
    }
   ],
   "source": [
    "#Converting words feature into numerical feature. \n",
    "#In Spark,it is implemented in HashingTF funtion using Austin Appleby's MurmurHash3 (mmh3) algorithm.\n",
    "#a set of fast and robust hash function.\n",
    "\n",
    "\n",
    "hashTF = HashingTF(inputCol=swr.getOutputCol(), outputCol=\"features\",numFeatures=500)\n",
    "\n",
    "numericTrainData = hashTF.transform(SwRemovedTrain).select('label', 'MeaningfulWords', 'features')\n",
    "\n",
    "numericTrainData.show(truncate=False, n=3)"
   ]
  },
  {
   "cell_type": "code",
   "execution_count": 9,
   "id": "abb9af33-28d8-4c4c-9a20-1224a3333950",
   "metadata": {},
   "outputs": [
    {
     "name": "stdout",
     "output_type": "stream",
     "text": [
      "+-----+------------------------+----------------------------------------+\n",
      "|Label|MeaningfulWords         |features                                |\n",
      "+-----+------------------------+----------------------------------------+\n",
      "|1    |[, , great, distress, \"]|(500,[19,250,325,372],[1.0,1.0,1.0,2.0])|\n",
      "|1    |[, \"]                   |(500,[19,372],[1.0,1.0])                |\n",
      "+-----+------------------------+----------------------------------------+\n",
      "only showing top 2 rows\n",
      "\n"
     ]
    }
   ],
   "source": [
    "# Prepare testing data\n",
    "tokenizedTest = tokenizer.transform(testingData)\n",
    "\n",
    "SwRemovedTest = swr.transform(tokenizedTest)\n",
    "\n",
    "numericTest = hashTF.transform(SwRemovedTest).select('Label', 'MeaningfulWords', 'features')\n",
    "\n",
    "numericTest.show(truncate=False, n=2)"
   ]
  },
  {
   "cell_type": "code",
   "execution_count": 10,
   "id": "f792614c",
   "metadata": {},
   "outputs": [
    {
     "name": "stdout",
     "output_type": "stream",
     "text": [
      "+------------------------+----------+-----+\n",
      "|MeaningfulWords         |prediction|Label|\n",
      "+------------------------+----------+-----+\n",
      "|[, , great, distress, \"]|1.0       |1    |\n",
      "|[, \"]                   |0.0       |1    |\n",
      "|[, \"]                   |0.0       |2    |\n",
      "|[, acchedin, \"]         |0.0       |1    |\n",
      "+------------------------+----------+-----+\n",
      "only showing top 4 rows\n",
      "\n",
      "correct prediction: 28583 , total data: 47348 , accuracy: 0.6036791416744107\n",
      "LogisticRegression of Performance Metrics:\n",
      "Accuracy: 0.6064557848790214\n"
     ]
    }
   ],
   "source": [
    "#Train our classifier model using training data.\n",
    "\n",
    "#LogisticRegression\n",
    "\n",
    "lr = LogisticRegression(labelCol=\"label\", featuresCol=\"features\",maxIter=10, regParam=0.01)\n",
    "\n",
    "lr_model = lr.fit(numericTrainData)\n",
    "\n",
    "#Predict testing data and calculate the accuracy model\n",
    "\n",
    "prediction = lr_model.transform(numericTest)\n",
    "\n",
    "predictionFinal = prediction.select(\"MeaningfulWords\", \"prediction\", \"Label\")\n",
    "\n",
    "predictionFinal.show(n=4, truncate = False)\n",
    "\n",
    "correctPrediction = predictionFinal.filter(predictionFinal['prediction'] == predictionFinal['Label']).count()\n",
    "\n",
    "totalData = predictionFinal.count()\n",
    "\n",
    "print(\"correct prediction:\", correctPrediction, \", total data:\", totalData,\", accuracy:\", correctPrediction/totalData)\n",
    "\n",
    "lr_summary = lr_model.summary\n",
    "\n",
    "lr_accuracy = lr_summary.accuracy\n",
    "\n",
    "\n",
    "\n",
    "\n",
    "print(\"LogisticRegression of Performance Metrics:\")\n",
    "print(\"Accuracy:\",lr_accuracy)\n",
    "\n",
    "\n",
    "\n",
    "\n",
    "\n",
    "\n",
    "\n"
   ]
  },
  {
   "cell_type": "code",
   "execution_count": 11,
   "id": "a42efe72-94bd-4354-af77-5316339fb457",
   "metadata": {},
   "outputs": [
    {
     "name": "stdout",
     "output_type": "stream",
     "text": [
      "+------------------------+----------+-----+\n",
      "|MeaningfulWords         |prediction|Label|\n",
      "+------------------------+----------+-----+\n",
      "|[, , great, distress, \"]|1.0       |1    |\n",
      "|[, \"]                   |1.0       |1    |\n",
      "|[, \"]                   |1.0       |2    |\n",
      "|[, acchedin, \"]         |1.0       |1    |\n",
      "+------------------------+----------+-----+\n",
      "only showing top 4 rows\n",
      "\n",
      "correct prediction: 26773 , total data: 47348\n",
      "Naive Bayes of Performance Metrics:\n",
      "Accuracy: 0.5654515502238743\n"
     ]
    }
   ],
   "source": [
    "#Train our classifier model using training data.\n",
    "\n",
    "#Naive Bayes Classifier\n",
    "\n",
    "nb = NaiveBayes(labelCol=\"label\", featuresCol=\"features\",smoothing=1.0, modelType=\"multinomial\")\n",
    "\n",
    "nb_model = nb.fit(numericTrainData)\n",
    "\n",
    "#Predict testing data and calculate the accuracy model\n",
    "\n",
    "prediction = nb_model.transform(numericTest)\n",
    "\n",
    "predictionFinal = prediction.select(\"MeaningfulWords\", \"prediction\", \"Label\")\n",
    "\n",
    "predictionFinal.show(n=4, truncate = False)\n",
    "\n",
    "correctPrediction = predictionFinal.filter(predictionFinal['prediction'] == predictionFinal['Label']).count()\n",
    "\n",
    "totalData = predictionFinal.count()\n",
    "\n",
    "print(\"correct prediction:\", correctPrediction, \", total data:\", totalData)\n",
    "\n",
    "nbAccuracy =correctPrediction/totalData\n",
    "\n",
    "\n",
    "print(\"Naive Bayes of Performance Metrics:\")\n",
    "print(\"Accuracy:\",nbAccuracy)\n",
    "\n",
    "\n"
   ]
  },
  {
   "cell_type": "code",
   "execution_count": 12,
   "id": "04c4978b-5e0a-43e5-adbc-bc49aca096a7",
   "metadata": {},
   "outputs": [
    {
     "name": "stdout",
     "output_type": "stream",
     "text": [
      "+------------------------+----------+-----+\n",
      "|MeaningfulWords         |prediction|Label|\n",
      "+------------------------+----------+-----+\n",
      "|[, , great, distress, \"]|1.0       |1    |\n",
      "|[, \"]                   |1.0       |1    |\n",
      "|[, \"]                   |1.0       |2    |\n",
      "|[, acchedin, \"]         |1.0       |1    |\n",
      "+------------------------+----------+-----+\n",
      "only showing top 4 rows\n",
      "\n",
      "correct prediction: 21060 , total data: 47348\n",
      "Random Forest of Performance Metrics:\n",
      "Accuracy: 0.4447917546675678\n"
     ]
    }
   ],
   "source": [
    "#Train our classifier model using training data.\n",
    "\n",
    "#Random Forest Classifier\n",
    "\n",
    "rf = RandomForestClassifier(labelCol=\"label\", featuresCol=\"features\")\n",
    "\n",
    "rf_model = rf.fit(numericTrainData)\n",
    "\n",
    "#Predict testing data and calculate the accuracy model\n",
    "\n",
    "prediction = rf_model.transform(numericTest)\n",
    "\n",
    "predictionFinal = prediction.select(\"MeaningfulWords\", \"prediction\", \"Label\")\n",
    "\n",
    "predictionFinal.show(n=4, truncate = False)\n",
    "\n",
    "correctPrediction = predictionFinal.filter(predictionFinal['prediction'] == predictionFinal['Label']).count()\n",
    "\n",
    "totalData = predictionFinal.count()\n",
    "\n",
    "print(\"correct prediction:\", correctPrediction, \", total data:\", totalData)\n",
    "\n",
    "rfAccuracy =correctPrediction/totalData\n",
    "\n",
    "\n",
    "print(\"Random Forest of Performance Metrics:\")\n",
    "print(\"Accuracy:\",rfAccuracy)\n",
    "\n",
    "\n"
   ]
  },
  {
   "cell_type": "code",
   "execution_count": 13,
   "id": "e066a2ac-128c-4bda-a662-0eae1b1bcaa4",
   "metadata": {},
   "outputs": [
    {
     "data": {
      "image/png": "[encoded data removed]",
      "text/plain": [
       "<Figure size 640x480 with 1 Axes>"
      ]
     },
     "metadata": {},
     "output_type": "display_data"
    }
   ],
   "source": [
    "import matplotlib.pyplot as plt\n",
    "import numpy as np\n",
    "model = ['Logistic regression', 'Naive Bayes', 'Random Forest']\n",
    "accuracy = [lr_accuracy,nbAccuracy,rfAccuracy]\n",
    "index = np.arange(len(model))\n",
    "plt.bar(index, accuracy)\n",
    "plt.xlabel('models', fontsize=10)\n",
    "plt.ylabel('prediction accuracy', fontsize=10)\n",
    "plt.xticks(index, model, fontsize=10, rotation=30)\n",
    "plt.title('Accuracy of each model')\n",
    "plt.show()"
   ]
  },
  {
   "cell_type": "code",
   "execution_count": 14,
   "id": "6a6ff62f",
   "metadata": {},
   "outputs": [],
   "source": [
    "# Fetching the tweets from  Reddit social network.\n",
    "\n",
    "import praw\n",
    "\n",
    "def get_sentiment_text(query):\n",
    "        # API credentials\n",
    "        client_id = 'msVOcvbKWhwpdfqFJLrlZw'\n",
    "        client_secret = 'rK_rRaeS3DOj2Fp_lP2ecFW_b4vHNg'\n",
    "        user_agent = 'praw_scraper_1'\n",
    "        \n",
    "        # Initialize PRAW with credentials\n",
    "        reddit = praw.Reddit(client_id=client_id, client_secret=client_secret, user_agent=user_agent)\n",
    "        \n",
    "        # Search for Reddit posts in a specific subreddit\n",
    "        search_query = query # Replace with search query\n",
    "        \n",
    "        # Maximum number of posts to retrieve\n",
    "        max_posts = 10\n",
    "        \n",
    "        # Get the top 'max_posts' posts in the subreddit that match the search query\n",
    "        posts = reddit.subreddit('all').search(search_query, limit=max_posts)\n",
    "\n",
    "        results=[]\n",
    "        \n",
    "        # Iterate through the posts and print their titles and URLs\n",
    "        \n",
    "        \n",
    "        for post in posts:\n",
    "            #print(f'Title: {post.title}')\n",
    "            results.append([str(post.title)])\n",
    "            #print(f'URL: {post.url}')\n",
    "            #print(f'URL: {post.author.name}')\n",
    "            #print('---')\n",
    "\n",
    "        return results"
   ]
  },
  {
   "cell_type": "code",
   "execution_count": 15,
   "id": "2b5aa213",
   "metadata": {
    "scrolled": true
   },
   "outputs": [
    {
     "name": "stdout",
     "output_type": "stream",
     "text": [
      "[['Who to vote for in the upcoming dutch elections'], ['Dutch elections exit poll: Geert Wilders’ right-wing PVV the largest'], ['2023 Dutch snap election'], ['Today are the Dutch elections. What do you choose?'], ['In light of the Dutch elections I made a pol comp of the most prominant parties'], ['⚡⚡⚡⚡⚡⚡ DUTCH ELECTION DONDERKOEPEL ⚡⚡⚡⚡⚡⚡⚡⚡'], ['Do you think the Dutch will lean more right wing or left wing in the upcoming elections?'], ['Netherlands 2023 election map by biggest party per municipality, by land and by number of voters'], [\"It's not strange that when you make the American culture war your top priority, you're not going to be very successful in Dutch elections\"], ['elections matter']]\n"
     ]
    }
   ],
   "source": [
    "# Writting the tweets into the Reddit_test.csv file.\n",
    "\n",
    "import csv\n",
    "\n",
    "\n",
    "# field names \n",
    "fields = ['SentimentText'] \n",
    "   \n",
    "# data rows of csv file \n",
    "rows =get_sentiment_text(\"Elections\")\n",
    "\n",
    "print(rows)\n",
    " \n",
    "with open('Reddit_test.csv', 'w',encoding=\"utf-8\") as f:\n",
    "     \n",
    "    # using csv.writer method from CSV package\n",
    "    write = csv.writer(f)     \n",
    "    write.writerow(fields)\n",
    "    write.writerows(rows)\n"
   ]
  },
  {
   "cell_type": "code",
   "execution_count": 16,
   "id": "727c729a",
   "metadata": {},
   "outputs": [
    {
     "name": "stdout",
     "output_type": "stream",
     "text": [
      "+-----------------------------------------------------------------------------------------------------------------------------------------+\n",
      "|SentimentText                                                                                                                            |\n",
      "+-----------------------------------------------------------------------------------------------------------------------------------------+\n",
      "|Who to vote for in the upcoming dutch elections                                                                                          |\n",
      "|Dutch elections exit poll: Geert Wilders’ right-wing PVV the largest                                                                     |\n",
      "|2023 Dutch snap election                                                                                                                 |\n",
      "|Today are the Dutch elections. What do you choose?                                                                                       |\n",
      "|In light of the Dutch elections I made a pol comp of the most prominant parties                                                          |\n",
      "|⚡⚡⚡⚡⚡⚡ DUTCH ELECTION DONDERKOEPEL ⚡⚡⚡⚡⚡⚡⚡⚡                                                                                              |\n",
      "|Do you think the Dutch will lean more right wing or left wing in the upcoming elections?                                                 |\n",
      "|Netherlands 2023 election map by biggest party per municipality, by land and by number of voters                                         |\n",
      "|It's not strange that when you make the American culture war your top priority, you're not going to be very successful in Dutch elections|\n",
      "|elections matter                                                                                                                         |\n",
      "+-----------------------------------------------------------------------------------------------------------------------------------------+\n",
      "\n",
      "+-----------------------------------------------------------------------------------------------------------------------------------------+------------------------------------------------------------------------------------------------------------------------------------------------------------------+\n",
      "|SentimentText                                                                                                                            |SentimentWords                                                                                                                                                    |\n",
      "+-----------------------------------------------------------------------------------------------------------------------------------------+------------------------------------------------------------------------------------------------------------------------------------------------------------------+\n",
      "|Who to vote for in the upcoming dutch elections                                                                                          |[who, to, vote, for, in, the, upcoming, dutch, elections]                                                                                                         |\n",
      "|Dutch elections exit poll: Geert Wilders’ right-wing PVV the largest                                                                     |[dutch, elections, exit, poll:, geert, wilders’, right-wing, pvv, the, largest]                                                                                   |\n",
      "|2023 Dutch snap election                                                                                                                 |[2023, dutch, snap, election]                                                                                                                                     |\n",
      "|Today are the Dutch elections. What do you choose?                                                                                       |[today, are, the, dutch, elections., what, do, you, choose?]                                                                                                      |\n",
      "|In light of the Dutch elections I made a pol comp of the most prominant parties                                                          |[in, light, of, the, dutch, elections, i, made, a, pol, comp, of, the, most, prominant, parties]                                                                  |\n",
      "|⚡⚡⚡⚡⚡⚡ DUTCH ELECTION DONDERKOEPEL ⚡⚡⚡⚡⚡⚡⚡⚡                                                                                              |[⚡⚡⚡⚡⚡⚡, dutch, election, donderkoepel, ⚡⚡⚡⚡⚡⚡⚡⚡]                                                                                                                 |\n",
      "|Do you think the Dutch will lean more right wing or left wing in the upcoming elections?                                                 |[do, you, think, the, dutch, will, lean, more, right, wing, or, left, wing, in, the, upcoming, elections?]                                                        |\n",
      "|Netherlands 2023 election map by biggest party per municipality, by land and by number of voters                                         |[netherlands, 2023, election, map, by, biggest, party, per, municipality,, by, land, and, by, number, of, voters]                                                 |\n",
      "|It's not strange that when you make the American culture war your top priority, you're not going to be very successful in Dutch elections|[it's, not, strange, that, when, you, make, the, american, culture, war, your, top, priority,, you're, not, going, to, be, very, successful, in, dutch, elections]|\n",
      "|elections matter                                                                                                                         |[elections, matter]                                                                                                                                               |\n",
      "+-----------------------------------------------------------------------------------------------------------------------------------------+------------------------------------------------------------------------------------------------------------------------------------------------------------------+\n",
      "\n",
      "+-----------------------------------------------------------------------------------------------------------------------------------------+------------------------------------------------------------------------------------------------------------------------------------------------------------------+--------------------------------------------------------------------------------------------+\n",
      "|SentimentText                                                                                                                            |SentimentWords                                                                                                                                                    |MeaningfulWords                                                                             |\n",
      "+-----------------------------------------------------------------------------------------------------------------------------------------+------------------------------------------------------------------------------------------------------------------------------------------------------------------+--------------------------------------------------------------------------------------------+\n",
      "|Who to vote for in the upcoming dutch elections                                                                                          |[who, to, vote, for, in, the, upcoming, dutch, elections]                                                                                                         |[vote, upcoming, dutch, elections]                                                          |\n",
      "|Dutch elections exit poll: Geert Wilders’ right-wing PVV the largest                                                                     |[dutch, elections, exit, poll:, geert, wilders’, right-wing, pvv, the, largest]                                                                                   |[dutch, elections, exit, poll:, geert, wilders’, right-wing, pvv, largest]                  |\n",
      "|2023 Dutch snap election                                                                                                                 |[2023, dutch, snap, election]                                                                                                                                     |[2023, dutch, snap, election]                                                               |\n",
      "|Today are the Dutch elections. What do you choose?                                                                                       |[today, are, the, dutch, elections., what, do, you, choose?]                                                                                                      |[today, dutch, elections., choose?]                                                         |\n",
      "|In light of the Dutch elections I made a pol comp of the most prominant parties                                                          |[in, light, of, the, dutch, elections, i, made, a, pol, comp, of, the, most, prominant, parties]                                                                  |[light, dutch, elections, made, pol, comp, prominant, parties]                              |\n",
      "|⚡⚡⚡⚡⚡⚡ DUTCH ELECTION DONDERKOEPEL ⚡⚡⚡⚡⚡⚡⚡⚡                                                                                              |[⚡⚡⚡⚡⚡⚡, dutch, election, donderkoepel, ⚡⚡⚡⚡⚡⚡⚡⚡]                                                                                                                 |[⚡⚡⚡⚡⚡⚡, dutch, election, donderkoepel, ⚡⚡⚡⚡⚡⚡⚡⚡]                                           |\n",
      "|Do you think the Dutch will lean more right wing or left wing in the upcoming elections?                                                 |[do, you, think, the, dutch, will, lean, more, right, wing, or, left, wing, in, the, upcoming, elections?]                                                        |[think, dutch, lean, right, wing, left, wing, upcoming, elections?]                         |\n",
      "|Netherlands 2023 election map by biggest party per municipality, by land and by number of voters                                         |[netherlands, 2023, election, map, by, biggest, party, per, municipality,, by, land, and, by, number, of, voters]                                                 |[netherlands, 2023, election, map, biggest, party, per, municipality,, land, number, voters]|\n",
      "|It's not strange that when you make the American culture war your top priority, you're not going to be very successful in Dutch elections|[it's, not, strange, that, when, you, make, the, american, culture, war, your, top, priority,, you're, not, going, to, be, very, successful, in, dutch, elections]|[strange, make, american, culture, war, top, priority,, going, successful, dutch, elections]|\n",
      "|elections matter                                                                                                                         |[elections, matter]                                                                                                                                               |[elections, matter]                                                                         |\n",
      "+-----------------------------------------------------------------------------------------------------------------------------------------+------------------------------------------------------------------------------------------------------------------------------------------------------------------+--------------------------------------------------------------------------------------------+\n",
      "\n"
     ]
    }
   ],
   "source": [
    "import pandas as pd\n",
    "\n",
    "data2 = spark.read.csv('Reddit_test.csv', inferSchema=True, header=True)\n",
    "data2.show(truncate=False, n=10)\n",
    "\n",
    "test_data=data2\n",
    "\n",
    "tokenizer2 = Tokenizer(inputCol=\"SentimentText\", outputCol=\"SentimentWords\")\n",
    "tokenizedTest2 = tokenizer2.transform(test_data)\n",
    "tokenizedTest2.show(truncate=False)\n",
    "\n",
    "\n",
    "swr2 = StopWordsRemover(inputCol=tokenizer2.getOutputCol(),\n",
    "                       outputCol=\"MeaningfulWords\")\n",
    "SwRemovedTest = swr2.transform(tokenizedTest2)\n",
    "SwRemovedTest.show(truncate=False)\n",
    "\n",
    "\n"
   ]
  },
  {
   "cell_type": "code",
   "execution_count": 17,
   "id": "e8da06bd",
   "metadata": {},
   "outputs": [
    {
     "name": "stdout",
     "output_type": "stream",
     "text": [
      "+--------------------------------------------------------------------------------------------+------------------------------------------------------------------------------------------------+\n",
      "|MeaningfulWords                                                                             |features                                                                                        |\n",
      "+--------------------------------------------------------------------------------------------+------------------------------------------------------------------------------------------------+\n",
      "|[vote, upcoming, dutch, elections]                                                          |(500,[40,83,214,330],[1.0,1.0,1.0,1.0])                                                         |\n",
      "|[dutch, elections, exit, poll:, geert, wilders’, right-wing, pvv, largest]                  |(500,[40,61,67,83,187,244,330,406,451],[1.0,1.0,1.0,1.0,1.0,1.0,1.0,1.0,1.0])                   |\n",
      "|[2023, dutch, snap, election]                                                               |(500,[132,327,330,392],[1.0,1.0,1.0,1.0])                                                       |\n",
      "|[today, dutch, elections., choose?]                                                         |(500,[167,306,330,351],[1.0,1.0,1.0,1.0])                                                       |\n",
      "|[light, dutch, elections, made, pol, comp, prominant, parties]                              |(500,[7,83,186,220,284,330,344,379],[1.0,1.0,1.0,1.0,1.0,1.0,1.0,1.0])                          |\n",
      "|[⚡⚡⚡⚡⚡⚡, dutch, election, donderkoepel, ⚡⚡⚡⚡⚡⚡⚡⚡]                                           |(500,[132,330,352,396,401],[1.0,1.0,1.0,1.0,1.0])                                               |\n",
      "|[think, dutch, lean, right, wing, left, wing, upcoming, elections?]                         |(500,[21,32,40,162,290,314,330,335],[2.0,1.0,1.0,1.0,1.0,1.0,1.0,1.0])                          |\n",
      "|[netherlands, 2023, election, map, biggest, party, per, municipality,, land, number, voters]|(500,[19,132,148,165,218,234,298,327,345,379,474],[1.0,1.0,1.0,1.0,1.0,1.0,1.0,1.0,1.0,1.0,1.0])|\n",
      "|[strange, make, american, culture, war, top, priority,, going, successful, dutch, elections]|(500,[25,38,83,145,152,159,189,192,219,328,330],[1.0,1.0,1.0,1.0,1.0,1.0,1.0,1.0,1.0,1.0,1.0])  |\n",
      "|[elections, matter]                                                                         |(500,[83,402],[1.0,1.0])                                                                        |\n",
      "+--------------------------------------------------------------------------------------------+------------------------------------------------------------------------------------------------+\n",
      "\n"
     ]
    }
   ],
   "source": [
    "hashTF2 = HashingTF(inputCol=swr2.getOutputCol(), outputCol=\"features\",numFeatures=500)\n",
    "numericTest2 = hashTF2.transform(SwRemovedTest).select('MeaningfulWords', 'features')\n",
    "numericTest2.show(truncate=False)"
   ]
  },
  {
   "cell_type": "code",
   "execution_count": 18,
   "id": "11d25dcf",
   "metadata": {},
   "outputs": [
    {
     "name": "stdout",
     "output_type": "stream",
     "text": [
      "+--------------------------------------------------------------------------------------------+----------+\n",
      "|MeaningfulWords                                                                             |prediction|\n",
      "+--------------------------------------------------------------------------------------------+----------+\n",
      "|[vote, upcoming, dutch, elections]                                                          |0.0       |\n",
      "|[dutch, elections, exit, poll:, geert, wilders’, right-wing, pvv, largest]                  |0.0       |\n",
      "|[2023, dutch, snap, election]                                                               |0.0       |\n",
      "|[today, dutch, elections., choose?]                                                         |0.0       |\n",
      "|[light, dutch, elections, made, pol, comp, prominant, parties]                              |0.0       |\n",
      "|[⚡⚡⚡⚡⚡⚡, dutch, election, donderkoepel, ⚡⚡⚡⚡⚡⚡⚡⚡]                                           |0.0       |\n",
      "|[think, dutch, lean, right, wing, left, wing, upcoming, elections?]                         |1.0       |\n",
      "|[netherlands, 2023, election, map, biggest, party, per, municipality,, land, number, voters]|2.0       |\n",
      "|[strange, make, american, culture, war, top, priority,, going, successful, dutch, elections]|1.0       |\n",
      "|[elections, matter]                                                                         |0.0       |\n",
      "+--------------------------------------------------------------------------------------------+----------+\n",
      "\n"
     ]
    }
   ],
   "source": [
    "# performing the Sentiment Analysis prediction by passing the posts of the reddit social network. \n",
    "\n",
    "prediction = lr_model.transform(numericTest2) # Prediction\n",
    "\n",
    "predictionFinal = prediction.select(\"MeaningfulWords\", \"prediction\")\n",
    "\n",
    "predictionFinal.show(truncate = False)"
   ]
  },
  {
   "cell_type": "code",
   "execution_count": null,
   "id": "a4769eb2",
   "metadata": {},
   "outputs": [],
   "source": []
  },
  {
   "cell_type": "code",
   "execution_count": null,
   "id": "187a5af0-f4ed-4c0f-ab93-afc28cb20a46",
   "metadata": {},
   "outputs": [],
   "source": []
  }
 ],
 "metadata": {
  "kernelspec": {
   "display_name": "Python 3 (ipykernel)",
   "language": "python",
   "name": "python3"
  },
  "language_info": {
   "codemirror_mode": {
    "name": "ipython",
    "version": 3
   },
   "file_extension": ".py",
   "mimetype": "text/x-python",
   "name": "python",
   "nbconvert_exporter": "python",
   "pygments_lexer": "ipython3",
   "version": "3.8.7"
  }
 },
 "nbformat": 4,
 "nbformat_minor": 5
}
